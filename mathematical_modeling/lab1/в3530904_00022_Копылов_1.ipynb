{
 "cells": [
  {
   "cell_type": "markdown",
   "id": "1b7bf8b4-509c-4935-88e0-44dd0a786c0e",
   "metadata": {},
   "source": [
    "# 6 вариант. Копылов В.Я. № в3530904/00022"
   ]
  },
  {
   "cell_type": "markdown",
   "id": "f4f1bd97-fb42-40c8-9f63-e1ae01f1dbb6",
   "metadata": {},
   "source": [
    "### **Начальные условия** \n",
    "\n",
    "Исходное уравнение: $ W(s) = \\frac{k(1+a_1*s)}{1+2 * \\mu*T*s+T^2*s^2} = \\frac{\\bar{y}(s)}{\\bar{x}(s)} = \\frac{P(s)}{Q(s)} $\n",
    "где: $ x(t) = const = 12, k = 2, a_1 = 2, \\mu = 0.3, T = 2 $"
   ]
  },
  {
   "cell_type": "markdown",
   "id": "8d5507b8-b9c1-48b0-9e5a-ff3b5dde335f",
   "metadata": {},
   "source": [
    "### **Введем дополнительную переменную и создадим систему**"
   ]
  },
  {
   "cell_type": "markdown",
   "id": "811113d2-8553-4d2e-ab7f-62db3dfd2610",
   "metadata": {},
   "source": [
    "$ W(s) = W_1(s) * W_2(s) = \\frac{1}{Q(s)} * P(s)= \\frac{1}{\\bar{x}(s)} * \\bar{y}(s)$"
   ]
  },
  {
   "cell_type": "markdown",
   "id": "2bf2b8ca-e844-4de5-95a9-e087a7989500",
   "metadata": {},
   "source": [
    "Далее выразим $\\bar{x}(s)$ и $\\bar{y}(s)$ в единой системе:\n",
    "\n",
    "$\\bar{x}(s) = (1 + 2 * \\mu*T*s+T^2*s^2) * \\bar{U}(s) $\n",
    "\n",
    "$\\bar{y}(s) = (k+k*a_1*s) * \\bar{U}(s) $"
   ]
  },
  {
   "cell_type": "markdown",
   "id": "05294fdc-3b8c-4f9d-baef-f68072abc3af",
   "metadata": {},
   "source": [
    "### **Переход в вещеcтвенную форму**"
   ]
  },
  {
   "cell_type": "markdown",
   "id": "8052bc35-8b98-4323-ae02-cf922ffa057c",
   "metadata": {},
   "source": [
    "$ \\bar{x}(s) = x(t) $\n",
    "\n",
    "$ \\bar{y}(s) = y(t) $\n",
    "\n",
    "$ \\bar{U}(s) = U(t) $\n",
    "\n",
    "$ S^n \\rightarrow \\frac{d^n}{dt^n}$"
   ]
  },
  {
   "cell_type": "markdown",
   "id": "00bcd8e0-f7bc-4682-9fbf-72946c447cc1",
   "metadata": {},
   "source": [
    "### **Преобразуем систему**"
   ]
  },
  {
   "cell_type": "markdown",
   "id": "04ea830e-3b00-491c-b9aa-ffb103173dff",
   "metadata": {},
   "source": [
    "$x(t) = U(t) + 2 * \\mu * T * U^{(1)}(t) + T^2 * U^{(2)}(t) $\n",
    "\n",
    "$y(t) = k * U(t) + k * a_1 * U^{(1)}(t)$"
   ]
  },
  {
   "cell_type": "markdown",
   "id": "1f136da0-276c-4bca-b51d-020175085f4b",
   "metadata": {},
   "source": [
    "### **Выразим из уравнения с x(t) старшую производную**"
   ]
  },
  {
   "cell_type": "markdown",
   "id": "bb640112-3a3b-4dd9-aab2-a899f1802c93",
   "metadata": {},
   "source": [
    "$ U^{(2)}(t) = -(\\frac{U(t) + 2 * \\mu * T * U^{(1)}(t) - x(t)}{T^2})  $"
   ]
  },
  {
   "cell_type": "markdown",
   "id": "b89c9f76-e0a7-419c-9336-3a0273389f7e",
   "metadata": {},
   "source": [
    "### **Приведем систему к канонической форме для применения метода Эйлера**\n",
    "\n",
    "сперва обозначим:\n",
    "\n",
    "$z_1(t) = U(t)$\n",
    "\n",
    "$z_2(t) = U^{(1)}(t) = z_1^{(1)}(t)$\n",
    "\n",
    "$z_3(t) = U^{(2)}(t) = z_2^{(1)}(t)$\n",
    "\n",
    "Получим систему уравнений:\n",
    "\n",
    "$ z_1^{(1)}(t)  = z_2(t)$\n",
    "\n",
    "$ z_2^{(1)}(t)  = z_3(t)$\n",
    "\n",
    "$ z_3(t)  = -(\\frac{z_1(t) + 2 * \\mu * T * z_2(t) - x(t)}{T^2}) $\n",
    "\n",
    "Выразим уравнение для y:\n",
    "\n",
    "$y(t) = k * z_1(t) + k * a_1 * z_2(t)$"
   ]
  },
  {
   "cell_type": "markdown",
   "id": "88cc73d6-f5c1-4c51-b364-d03ba0987b0b",
   "metadata": {},
   "source": [
    "### **Проверка вычисления точки сходимости**"
   ]
  },
  {
   "cell_type": "markdown",
   "id": "b9d6caed-f953-4473-9d11-77a1bb156acb",
   "metadata": {},
   "source": [
    "исходный предел для првоверки имеет вид:\n",
    "\n",
    "$ \\lim_{s \\rightarrow 0}{y(t)} = \\lim_{s \\rightarrow 0} s * {y(s)}$"
   ]
  },
  {
   "cell_type": "markdown",
   "id": "4008cda4-fecc-4ff5-95e6-0df782232b3b",
   "metadata": {},
   "source": [
    "После множества преобразований получаем:\n",
    "    \n",
    "$ c * \\lim_{s \\rightarrow 0}{W(s)} $\n",
    "\n",
    "Вычислим предел:\n",
    "\n",
    "$ c * \\lim_{s \\rightarrow 0}{W(s)} = c * \\lim_{s \\rightarrow 0}{\\frac{k(1+a_1*s)}{1+2 * \\mu*T*s+T^2*s^2}} = c * \\lim_{s \\rightarrow 0}{\\frac{k}{1}} = c * k = 12 * 2 = 24$"
   ]
  },
  {
   "cell_type": "markdown",
   "id": "b6014c5b-2b8f-45c2-b00e-8c56657c4640",
   "metadata": {},
   "source": [
    "### **Далее приступим к вычислению точек и построению графика**"
   ]
  },
  {
   "cell_type": "code",
   "execution_count": 3,
   "id": "252341f9-491f-4a39-be34-677668604eb3",
   "metadata": {
    "tags": []
   },
   "outputs": [],
   "source": [
    "import numpy as np\n",
    "import pandas as pd\n",
    "import matplotlib.pyplot as plt"
   ]
  },
  {
   "cell_type": "code",
   "execution_count": 8,
   "id": "60789794-04eb-407d-ad6b-69d7e822bb8e",
   "metadata": {},
   "outputs": [],
   "source": [
    "# начальные условия\n",
    "xt, k, a1, mu, T = 12, 2, 2, 0.3, 2"
   ]
  },
  {
   "cell_type": "code",
   "execution_count": 9,
   "id": "6aa8a38a-4ab0-4818-8aa2-7b1ebd255019",
   "metadata": {
    "tags": []
   },
   "outputs": [],
   "source": [
    "# функция вычисления точек\n",
    "def gen_Euler(h: float) -> float:\n",
    "    \"\"\"\n",
    "    h: float -> шаг\n",
    "    return: значение функции\n",
    "    \"\"\"\n",
    "    z1, z2 = 0,0\n",
    "    while True:\n",
    "        yield (k * z1 + k * a1 * z2)\n",
    "        z1 = z1 + h * z2\n",
    "        z2 = z2 + h * -((z1 + 2 * mu * T * z2 - xt) / (T*T))"
   ]
  },
  {
   "cell_type": "code",
   "execution_count": 11,
   "id": "6d636661-a747-4f9a-b160-5a12d10d169d",
   "metadata": {
    "tags": []
   },
   "outputs": [
    {
     "name": "stdout",
     "output_type": "stream",
     "text": [
      "step: 1000 | t:5.0    \t| y:37.93984115356972    | err: 0.0062944\n",
      "step: 2000 | t:10.0   \t| y:19.772034977406207   | err: 0.00903492\n",
      "step: 3000 | t:15.0   \t| y:23.797832254776615   | err: 0.00761013\n",
      "step: 4000 | t:20.0   \t| y:25.081219647524765   | err: 0.00321468\n",
      "step: 5000 | t:25.0   \t| y:23.302230737860345   | err: 0.000512437\n",
      "step: 6000 | t:30.0   \t| y:24.23840586199098    | err: 0.000364427\n",
      "step: 7000 | t:35.0   \t| y:23.99172662394127    | err: 0.000364583\n",
      "step: 8000 | t:40.0   \t| y:23.9525483743284     | err: 0.000169255\n",
      "step: 9000 | t:45.0   \t| y:24.034444559296315   | err: 3.50254e-05\n",
      "step: 10000| t:50.0   \t| y:23.98691159426087    | err: 1.36601e-05\n",
      "step: 11000| t:55.0   \t| y:24.00131513178786    | err: 1.71913e-05\n",
      "step: 12000| t:60.0   \t| y:24.00201359874863    | err: 8.76634e-06\n",
      "step: 13000| t:65.0   \t| y:23.998323485907136   | err: 2.19115e-06\n",
      "step: 14000| t:70.0   \t| y:24.00070302325396    | err: 4.48452e-07\n",
      "step: 15000| t:75.0   \t| y:23.99989066314617    | err: 7.96461e-07\n",
      "step: 16000| t:80.0   \t| y:23.999918428344053   | err: 4.4724e-07\n",
      "step: 17000| t:85.0   \t| y:24.000080410906516   | err: 1.29752e-07\n",
      "step: 18000| t:90.0   \t| y:23.99996293606417    | err: 1.05371e-08\n",
      "step: 19000| t:95.0   \t| y:24.000007542058338   | err: 3.61583e-08\n",
      "step: 20000| t:100.0  \t| y:24.000003079168454   | err: 2.24933e-08\n",
      "step: 21000| t:105.0  \t| y:23.99999620355829    | err: 7.39459e-09\n",
      "step: 22000| t:110.0  \t| y:24.000001921979855   | err: 6.70077e-11\n",
      "step: 23000| t:115.0  \t| y:23.999999525693173   | err: 1.60206e-09\n",
      "step: 24000| t:120.0  \t| y:23.999999897493087   | err: 1.11559e-09\n",
      "step: 25000| t:125.0  \t| y:24.000000176138204   | err: 4.09379e-10\n",
      "step: 26000| t:130.0  \t| y:23.999999901834755   | err: 3.26104e-11\n",
      "step: 27000| t:135.0  \t| y:24.00000002818475    | err: 6.88374e-11\n",
      "step: 28000| t:140.0  \t| y:24.00000000251525    | err: 5.4559e-11\n",
      "step: 29000| t:145.0  \t| y:23.99999999199015    | err: 2.21405e-11\n",
      "step: 30000| t:150.0  \t| y:24.0000000049424     | err: 3.05533e-12\n",
      "step: 31000| t:155.0  \t| y:23.999999998389658   | err: 2.83862e-12\n",
      "step: 32000| t:160.0  \t| y:24.000000000004814   | err: 2.62901e-12\n",
      "step: 33000| t:165.0  \t| y:24.000000000355616   | err: 1.17595e-12\n",
      "step: 34000| t:170.0  \t| y:23.99999999975461    | err: 2.23821e-13\n",
      "step: 35000| t:175.0  \t| y:24.00000000008932    | err: 1.10134e-13\n",
      "step: 36000| t:180.0  \t| y:23.99999999999335    | err: 1.20792e-13\n",
      "step: 37000| t:185.0  \t| y:23.99999999998466    | err: 6.03961e-14\n",
      "step: 38000| t:190.0  \t| y:24.000000000011976   | err: 1.42109e-14\n",
      "step: 39000| t:195.0  \t| y:23.99999999999514    | err: 3.55271e-15\n",
      "step: 40000| t:200.0  \t| y:24.000000000000615   | err: 1.06581e-14\n",
      "step: 41000| t:205.0  \t| y:24.000000000000735   | err: 0\n",
      "step: 42000| t:210.0  \t| y:23.99999999999963    | err: 3.55271e-15\n",
      "step: 43000| t:215.0  \t| y:23.99999999999999    | err: 0\n",
      "step: 44000| t:220.0  \t| y:24.00000000000007    | err: 0\n",
      "step: 45000| t:225.0  \t| y:24.00000000000009    | err: 0\n",
      "step: 46000| t:230.0  \t| y:24.000000000000092   | err: 0\n",
      "step: 47000| t:235.0  \t| y:24.000000000000092   | err: 0\n",
      "step: 48000| t:240.0  \t| y:24.000000000000092   | err: 0\n",
      "step: 49000| t:245.0  \t| y:24.000000000000092   | err: 0\n"
     ]
    },
    {
     "data": {
      "text/plain": [
       "[<matplotlib.lines.Line2D at 0x7fe81a058880>]"
      ]
     },
     "execution_count": 11,
     "metadata": {},
     "output_type": "execute_result"
    },
    {
     "data": {
      "image/png": "[encoded data removed]",
      "text/plain": [
       "<Figure size 432x288 with 1 Axes>"
      ]
     },
     "metadata": {
      "needs_background": "light"
     },
     "output_type": "display_data"
    }
   ],
   "source": [
    "h = 0.005 # шаг с которым функция будет вычислять значения\n",
    "f = gen_Euler(h)\n",
    "\n",
    "border = 50000 # кол-во точек\n",
    "dots = []\n",
    "for _ in range(border):\n",
    "    dots.append(next(f))\n",
    "\n",
    "# вывод точек\n",
    "step = 1000 # шаг для вывода точек\n",
    "for i, t, dot in zip(range(border), np.arange(0, border, 0.005), dots):\n",
    "    template = \"step: {:<5}| t:{:<5}  \\t| y:{:<20} | err: {:g}\"\n",
    "    if not i % step and i:\n",
    "        print(template.format(i, t, dot, abs(dots[i] - dots[i-1])))\n",
    "    \n",
    "# Построение графика\n",
    "plt.plot(dots)"
   ]
  },
  {
   "cell_type": "markdown",
   "id": "d4da7534-7a7d-4415-b880-f2286b42a992",
   "metadata": {},
   "source": [
    "## Вывод\n",
    "\n",
    "* При шаге равном `h = 0.05` фаза успокоения, с машинным отклонением между точками в `e-03` экспоненты, наступает при 1000 шагах. При 5000 и более шагов компьютерное отклонение между точками состоявляет 0\n",
    "* При шаге равном `h = 0.005` фаза успокоения, с машинным отклонением между точками в `e-05` экспоненты, наступает при 1000 шагах. При 43000 и более шагов компьютерное отклонение между точками состоявляет 0"
   ]
  },
  {
   "cell_type": "markdown",
   "id": "40626f0f-e0b2-45d1-b815-a631104acce9",
   "metadata": {},
   "source": [
    "## Урезание шагов, оптимизация графика"
   ]
  },
  {
   "cell_type": "markdown",
   "id": "93e699ed-9514-4e4c-9b2e-63fbdfecc1d0",
   "metadata": {},
   "source": [
    "**Задача**: необходимо найти такой шаг, при котором график бы достигал фазы успокоения на этапе 100-200 шагов\n",
    "\n",
    "**Решение**: данная задача достигается при шаге 0.15"
   ]
  },
  {
   "cell_type": "code",
   "execution_count": 21,
   "id": "f9ebc305-4dd3-43fe-9242-aefca4660a01",
   "metadata": {},
   "outputs": [
    {
     "name": "stdout",
     "output_type": "stream",
     "text": [
      "step: 25   | t:3.75   \t| y:36.401543580513916   | err: 0.549504\n",
      "step: 50   | t:7.5    \t| y:28.317634022926885   | err: 0.696474\n",
      "step: 75   | t:11.25  \t| y:18.93791538682245    | err: 0.0100276\n",
      "step: 100  | t:15.0   \t| y:23.970483010413616   | err: 0.21764\n",
      "step: 125  | t:18.75  \t| y:25.608873237279298   | err: 0.0606164\n",
      "step: 150  | t:22.5   \t| y:23.58468444138014    | err: 0.052838\n",
      "step: 175  | t:26.25  \t| y:23.600750654559114   | err: 0.0331185\n"
     ]
    },
    {
     "data": {
      "text/plain": [
       "[<matplotlib.lines.Line2D at 0x7fe81e9c9dc0>]"
      ]
     },
     "execution_count": 21,
     "metadata": {},
     "output_type": "execute_result"
    },
    {
     "data": {
      "image/png": "[encoded data removed]",
      "text/plain": [
       "<Figure size 432x288 with 1 Axes>"
      ]
     },
     "metadata": {
      "needs_background": "light"
     },
     "output_type": "display_data"
    }
   ],
   "source": [
    "h = 0.15 # шаг с которым функция будет вычислять значения\n",
    "f = gen_Euler(h)\n",
    "\n",
    "border = 200 # кол-во точек\n",
    "dots = []\n",
    "for _ in range(border):\n",
    "    dots.append(next(f))\n",
    "\n",
    "# вывод точек\n",
    "step = 25 # шаг для вывода точек\n",
    "for i, t, dot in zip(range(border), np.arange(0, border, 0.15), dots):\n",
    "    template = \"step: {:<5}| t:{:<5}  \\t| y:{:<20} | err: {:g}\"\n",
    "    if not i % step and i:\n",
    "        print(template.format(i, t, dot, abs(dots[i] - dots[i-1])))\n",
    "    \n",
    "# Построение графика\n",
    "plt.plot(dots)"
   ]
  },
  {
   "cell_type": "code",
   "execution_count": null,
   "id": "0349cded-5278-4b45-b361-e67172525538",
   "metadata": {},
   "outputs": [],
   "source": []
  }
 ],
 "metadata": {
  "kernelspec": {
   "display_name": "ds-env",
   "language": "python",
   "name": "ds-env"
  },
  "language_info": {
   "codemirror_mode": {
    "name": "ipython",
    "version": 3
   },
   "file_extension": ".py",
   "mimetype": "text/x-python",
   "name": "python",
   "nbconvert_exporter": "python",
   "pygments_lexer": "ipython3",
   "version": "3.9.6"
  }
 },
 "nbformat": 4,
 "nbformat_minor": 5
}
