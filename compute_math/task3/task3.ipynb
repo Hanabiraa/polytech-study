{
 "cells": [
  {
   "cell_type": "markdown",
   "id": "5343722b-f8c7-4569-b69a-8ab3ed29579b",
   "metadata": {},
   "source": [
    "# Вариант 16.\n",
    "### Копылов Виталий Ярославовович. гр. в3530904/00022\n",
    "\n",
    "# Задание 1\n",
    "Для заданной функции $f(x)$ построить интерполяционный полином $P(x)$ в форме Лагранжа по точкам $x_0, x_1, x_2, x_3$ и нарисовать график погрешности $r(x) = f(x) - P(x)$. График построить с помощью любого приложения с соблюдением подходящих диапазонов $cos(Pi*x)/2$: по координате х взять интервал близкий к $[x_0,x_3]$, по вертикальной оси диапазон должен быть близким к $[r_{min}, r_{max}]$. Коэффициенты полинома получить с 7-мю значащими цифрами. "
   ]
  },
  {
   "cell_type": "markdown",
   "id": "a791d1a2-d108-4bf0-9209-f0e9f4ff8142",
   "metadata": {},
   "source": [
    "### Функция: $$cos(Pi*x)/2$$\n",
    "$x_0$ = 0\n",
    "\n",
    "$x_1$ = 1/6\n",
    "\n",
    "$x_2$ = 1/4\n",
    "\n",
    "$x_3$ = 1/3"
   ]
  },
  {
   "cell_type": "markdown",
   "id": "73f86eed-df54-4e8f-8eb4-ec5d0a6ebfb8",
   "metadata": {},
   "source": [
    "# Начало исследования"
   ]
  },
  {
   "cell_type": "code",
   "execution_count": 1,
   "id": "d9e6426c-0ad0-4b88-afb0-ee3ebcf47082",
   "metadata": {},
   "outputs": [],
   "source": [
    "import numpy as np\n",
    "import matplotlib.pyplot as plt\n",
    "import scipy.special\n",
    "import functools\n",
    "%matplotlib inline  "
   ]
  },
  {
   "cell_type": "markdown",
   "id": "783174e2-6b07-4eba-8b64-e55514e39483",
   "metadata": {},
   "source": [
    "### Вычисление исходной функции и построение графика"
   ]
  },
  {
   "cell_type": "code",
   "execution_count": 2,
   "id": "8e86c53a-a0e2-4dd4-93c5-f0fc97e4345c",
   "metadata": {},
   "outputs": [
    {
     "name": "stdout",
     "output_type": "stream",
     "text": [
      "x: 0.0000000 y: 0.5000000\n",
      "x: 0.1666667 y: 0.4330127\n",
      "x: 0.2500000 y: 0.3535534\n",
      "x: 0.3333333 y: 0.2500000\n"
     ]
    }
   ],
   "source": [
    "def f(x: np.longdouble) -> np.longdouble:\n",
    "    return np.longdouble(\n",
    "        np.cos(np.pi * x) / np.longdouble(2.0)\n",
    "    )\n",
    "\n",
    "# func results\n",
    "x = np.array(\n",
    "    [np.longdouble(0), np.longdouble(1/6), np.longdouble(1/4), np.longdouble(1/3)],\n",
    "    dtype = np.longdouble)\n",
    "    \n",
    "y = np.array(list(map(f, x)), dtype = np.longdouble)\n",
    "\n",
    "for point, res in zip(x,y):\n",
    "    print('x: {0:2.7f} y: {1:2.7f}'.format(point, res))"
   ]
  },
  {
   "cell_type": "markdown",
   "id": "758a734a-7c6f-47ec-87b2-69acb0b78890",
   "metadata": {},
   "source": [
    "### Построение полинома Лагранжа по данным точкам и его график "
   ]
  },
  {
   "cell_type": "markdown",
   "id": "79c9b8e6-9f01-4e93-a27f-34bad65ffa28",
   "metadata": {},
   "source": [
    "Для текущих 4-ех узлов, необходимо построить полином Лагранжа 3-ей степени, поэтому его вид станет:\n",
    "$$ L(x) = \\sum_{i=0}^{3} f_i * b_i(x)$$ где $b_i(x)$ является $b_i(x) = \\prod_{j=0, i \\neq j}^{n} \\frac{x - x_j}{x_i - x_j}$\n",
    "\n",
    "Исходя из этого исходный полином примет вид:"
   ]
  },
  {
   "cell_type": "markdown",
   "id": "7ab70fda-f1ef-470e-9d1c-3421f0d3e6d2",
   "metadata": {},
   "source": [
    "$$ L(x) = \\sum_{i=0}^{3} f_i * b_i(x) = f_0 * \\frac{(x - x_1) * (x - x_2) * (x - x_3)}{(x_0 - x_1) * (x_0 - x_2) * (x_0 - x_3)} + f_1 * \\frac{(x - x_0) * (x - x_2) * (x - x_3)}{(x_1 - x_0) * (x_1 - x_2) * (x_1 - x_3)} + f_2 * \\frac{(x - x_0) * (x - x_1) * (x - x_3)}{(x_2 - x_0) * (x_2 - x_1) * (x_2 - x_3)} + f_3 * \\frac{(x - x_0) * (x - x_1) * (x - x_2)}{(x_3 - x_0) * (x_3 - x_1) * (x_3 - x_2)}$$"
   ]
  },
  {
   "cell_type": "code",
   "execution_count": 3,
   "id": "b3d1c5d3-ae05-41a4-98f5-66a304874090",
   "metadata": {},
   "outputs": [
    {
     "name": "stdout",
     "output_type": "stream",
     "text": [
      "x: 0.0000000 y: 0.5000000\n",
      "x: 0.1666667 y: 0.4330127\n",
      "x: 0.2500000 y: 0.3535534\n",
      "x: 0.3333333 y: 0.2500000\n"
     ]
    }
   ],
   "source": [
    "def La(x, y, unit:np.longdouble) -> np.longdouble:\n",
    "    \"\"\"\n",
    "    Многочлен Лагранжа\n",
    "    \n",
    "    Параметры:\n",
    "    x - вектор двойной точности узлов функции f(x)\n",
    "    y - вектор двойной точности результатов функции f(x)\n",
    "    unit - произвольный узел, для которого находится значения\n",
    "    \n",
    "    return: np.longdouble - значение функции в произвольном узле unit\n",
    "    \"\"\"\n",
    "    res = 0\n",
    "    for i in range(len(x)):\n",
    "        prod_up = y[i]\n",
    "        prod_down = np.longdouble(1.0)\n",
    "        \n",
    "        for j in range(len(x)):\n",
    "            if i != j:\n",
    "                prod_up *= unit - x[j]\n",
    "                prod_down *= x[i] - x[j]\n",
    "        res += prod_up / prod_down\n",
    "        \n",
    "    return res\n",
    "\n",
    "# func results\n",
    "y_La = []\n",
    "for i in x:\n",
    "    y_La.append(La(x, y, i))\n",
    "\n",
    "for point, res in zip(x,y_La):\n",
    "    print('x: {0:2.7f} y: {1:2.7f}'.format(point, res))"
   ]
  },
  {
   "cell_type": "markdown",
   "id": "77cec4d7-5858-43d5-90c1-b0d9a94e04ec",
   "metadata": {},
   "source": [
    "### Графики функции и полинома Лагранжа:"
   ]
  },
  {
   "cell_type": "code",
   "execution_count": 4,
   "id": "16774a69-0c62-4d2a-9a28-66aa78bd2fe7",
   "metadata": {
    "tags": []
   },
   "outputs": [
    {
     "data": {
      "text/plain": [
       "Text(0.5, 1.0, '$L(x) = \\\\sum_{i=0}^{3} f_i * b_i(x)$')"
      ]
     },
     "execution_count": 4,
     "metadata": {},
     "output_type": "execute_result"
    },
    {
     "data": {
      "image/png": "[encoded data removed]",
      "text/plain": [
       "<Figure size 432x288 with 2 Axes>"
      ]
     },
     "metadata": {
      "needs_background": "light"
     },
     "output_type": "display_data"
    }
   ],
   "source": [
    "# отдельные графики\n",
    "plt.subplot(121)\n",
    "plt.plot(x, y)\n",
    "plt.title('$cos(Pi*x)/2$')\n",
    "plt.subplot(122)\n",
    "plt.plot(x, y_La)\n",
    "plt.title('$L(x) = \\sum_{i=0}^{3} f_i * b_i(x)$')"
   ]
  },
  {
   "cell_type": "code",
   "execution_count": 5,
   "id": "9739bb5e-64b6-4522-b5aa-04d6a25cb27e",
   "metadata": {},
   "outputs": [
    {
     "data": {
      "text/plain": [
       "Text(0.5, 1.0, 'Сравнение графиков')"
      ]
     },
     "execution_count": 5,
     "metadata": {},
     "output_type": "execute_result"
    },
    {
     "data": {
      "image/png": "[encoded data removed]",
      "text/plain": [
       "<Figure size 432x288 with 1 Axes>"
      ]
     },
     "metadata": {
      "needs_background": "light"
     },
     "output_type": "display_data"
    }
   ],
   "source": [
    "plt.plot(x, y, label = '$cos(Pi*x)/2$')\n",
    "plt.plot(x, y_La, label = '$L(x) = \\sum_{i=0}^{3} f_i * b_i(x)$')\n",
    "\n",
    "plt.legend()\n",
    "plt.xlabel('x')\n",
    "plt.ylabel('f(x)')\n",
    "plt.title('Сравнение графиков')"
   ]
  },
  {
   "cell_type": "markdown",
   "id": "05a88848-ec61-42f3-af2c-4fd066a1c680",
   "metadata": {},
   "source": [
    "### Вычисление погрешности и построение графика погрешности"
   ]
  },
  {
   "cell_type": "code",
   "execution_count": 6,
   "id": "a4275e27-697e-4971-8397-1473ac29284a",
   "metadata": {},
   "outputs": [
    {
     "data": {
      "text/plain": [
       "[(1, 3, 5), (2, 4, 6)]"
      ]
     },
     "execution_count": 6,
     "metadata": {},
     "output_type": "execute_result"
    }
   ],
   "source": [
    "list(zip([1,2], [3,4], [5,6]))"
   ]
  },
  {
   "cell_type": "code",
   "execution_count": 12,
   "id": "3fb25904-75eb-44bc-9dc8-062a87d66cb0",
   "metadata": {},
   "outputs": [
    {
     "name": "stdout",
     "output_type": "stream",
     "text": [
      "x= 0.0000000 f(x)= 0.5000000 L(x)= 0.5000000 r = 0.0000000e+00\n",
      "x= 0.0114943 f(x)= 0.4996740 L(x)= 0.4996740 r = 1.0842022e-19\n",
      "x= 0.0229885 f(x)= 0.4986966 L(x)= 0.4986966 r = 0.0000000e+00\n",
      "x= 0.0344828 f(x)= 0.4970690 L(x)= 0.4970690 r = 8.1315163e-20\n",
      "x= 0.0459770 f(x)= 0.4947933 L(x)= 0.4947933 r = 0.0000000e+00\n",
      "x= 0.0574713 f(x)= 0.4918724 L(x)= 0.4918724 r = 0.0000000e+00\n",
      "x= 0.0689655 f(x)= 0.4883103 L(x)= 0.4883103 r = 5.4210109e-20\n",
      "x= 0.0804598 f(x)= 0.4841115 L(x)= 0.4841115 r = 1.0842022e-19\n",
      "x= 0.0919540 f(x)= 0.4792815 L(x)= 0.4792815 r = 5.4210109e-20\n",
      "x= 0.1034483 f(x)= 0.4738266 L(x)= 0.4738266 r = 1.0842022e-19\n",
      "x= 0.1149425 f(x)= 0.4677539 L(x)= 0.4677539 r = 5.4210109e-20\n",
      "x= 0.1264368 f(x)= 0.4610714 L(x)= 0.4610714 r = 0.0000000e+00\n",
      "x= 0.1379310 f(x)= 0.4537877 L(x)= 0.4537877 r = 1.0842022e-19\n",
      "x= 0.1494253 f(x)= 0.4459124 L(x)= 0.4459124 r = 8.1315163e-20\n",
      "x= 0.1609195 f(x)= 0.4374557 L(x)= 0.4374557 r = 0.0000000e+00\n",
      "x= 0.1724138 f(x)= 0.4284286 L(x)= 0.4284286 r = 2.7105054e-20\n",
      "x= 0.1839080 f(x)= 0.4188429 L(x)= 0.4188429 r = 5.4210109e-20\n",
      "x= 0.1954023 f(x)= 0.4087112 L(x)= 0.4087112 r = 0.0000000e+00\n",
      "x= 0.2068966 f(x)= 0.3980465 L(x)= 0.3980465 r = 2.7105054e-20\n",
      "x= 0.2183908 f(x)= 0.3868629 L(x)= 0.3868629 r = 5.4210109e-20\n",
      "x= 0.2298851 f(x)= 0.3751749 L(x)= 0.3751749 r = 1.0842022e-19\n",
      "x= 0.2413793 f(x)= 0.3629977 L(x)= 0.3629977 r = 0.0000000e+00\n",
      "x= 0.2528736 f(x)= 0.3503473 L(x)= 0.3503473 r = 8.1315163e-20\n",
      "x= 0.2643678 f(x)= 0.3372401 L(x)= 0.3372401 r = 5.4210109e-20\n",
      "x= 0.2758621 f(x)= 0.3236931 L(x)= 0.3236931 r = 2.7105054e-20\n",
      "x= 0.2873563 f(x)= 0.3097242 L(x)= 0.3097242 r = 0.0000000e+00\n",
      "x= 0.2988506 f(x)= 0.2953514 L(x)= 0.2953514 r = 0.0000000e+00\n",
      "x= 0.3103448 f(x)= 0.2805935 L(x)= 0.2805935 r = 1.3552527e-19\n",
      "x= 0.3218391 f(x)= 0.2654698 L(x)= 0.2654698 r = 5.4210109e-20\n",
      "x= 0.3333333 f(x)= 0.2500000 L(x)= 0.2500000 r = 0.0000000e+00\n"
     ]
    }
   ],
   "source": [
    "xr = np.linspace(x.min(), x.max(), 30)\n",
    "y_for_fx_xr = np.array([f(unit) for unit in xr], dtype=np.longdouble)\n",
    "y_for_La_xr = np.array([La(xr, y_for_fx_xr, unit) for unit in xr], dtype=np.longdouble)\n",
    "r = abs(y_for_fx_xr - y_for_La_xr)\n",
    "for point, res_for_fx, res_for_La, r_dist in zip(xr,y_for_fx_xr, y_for_La_xr, r):\n",
    "    print('x= {0:3.7f} f(x)= {1:3.7f} L(x)= {2:3.7f} r = {3:3.7e}'.format(point, res_for_fx, res_for_La, r_dist))"
   ]
  },
  {
   "cell_type": "code",
   "execution_count": 13,
   "id": "5be45820-52cd-4342-bdc5-fb6f1fa357c0",
   "metadata": {},
   "outputs": [
    {
     "data": {
      "text/plain": [
       "[<matplotlib.lines.Line2D at 0x7f8307eea4c0>]"
      ]
     },
     "execution_count": 13,
     "metadata": {},
     "output_type": "execute_result"
    },
    {
     "data": {
      "image/png": "[encoded data removed]",
      "text/plain": [
       "<Figure size 432x288 with 1 Axes>"
      ]
     },
     "metadata": {
      "needs_background": "light"
     },
     "output_type": "display_data"
    }
   ],
   "source": [
    "plt.plot(xr, r, label = '$f(x) - L(x)')"
   ]
  },
  {
   "cell_type": "markdown",
   "id": "0eb138f2-78ab-4420-8751-7ebcf8cda4aa",
   "metadata": {},
   "source": [
    "### Вывод:\n",
    "\n",
    "Функция является достаточно благоприятной, ввиду того, что погрешность вычисления примерно составила $10^{-20}$\n"
   ]
  },
  {
   "cell_type": "markdown",
   "id": "398b8fa5-4f36-4526-9a73-5f8268cee440",
   "metadata": {},
   "source": [
    "# Задание 2"
   ]
  },
  {
   "cell_type": "markdown",
   "id": "b35f7915-09c5-454b-aefd-e163227e8b5f",
   "metadata": {},
   "source": [
    "Для заданной функции $f(x)$ оценить в точке $x^*$ погрешность интерполирования по точкам $x_0, x_1, x_2, x_3$. Привести все необходимые формулы. Результат представить в десятичной форме с  тремя  значащими  цифрами.  Сравнить  оценку  погрешности  с  модулем  реальной погрешностью в точке $x^*$. $$x^* = \\frac{11}{48}$$"
   ]
  },
  {
   "cell_type": "markdown",
   "id": "e07d3f98-fd32-4d93-bda1-a0f4b5bd87a6",
   "metadata": {},
   "source": [
    "## Начало исследования"
   ]
  },
  {
   "cell_type": "markdown",
   "id": "06d46cfa-e401-44a1-a9f7-e47dc629ff9c",
   "metadata": {},
   "source": [
    "Исходя из формулы оценки:\n",
    "$$|f(x^*) - L_n(x^*)| \\leq \\frac{M_{n+1}}{(n+1)!} * |\\omega(x^*)|, где$$ $$M_{n+1} = max|f^{n+1}(x)|$$ $$\\omega(x^*) = \\prod_{i=0}^{n} (x^* - x_i)$$ возьмем n+1 производную фукнции f(x), т.е. производную третьей степени"
   ]
  },
  {
   "cell_type": "markdown",
   "id": "27506408-2c52-451e-a037-21c2a48478f0",
   "metadata": {},
   "source": [
    "$f(x) = cos(Pi*x)/2$\n",
    "\n",
    "$f^{1}(x) = - \\frac{1}{2} * Pi * sin(Pi*x)$\n",
    "\n",
    "$f^{2}(x) = - \\frac{1}{2} * Pi^2 * cos(Pi*x)$\n",
    "\n",
    "$f^{3}(x) = \\frac{1}{2} * Pi^3 * sin(Pi*x)$"
   ]
  },
  {
   "cell_type": "markdown",
   "id": "9b40244b-012a-47b3-a290-3a934949c9d0",
   "metadata": {},
   "source": [
    "### Вычисление максимального значения $M_{n+1}$ в $x_1, ..., x_3$ для $f^{(3)}(x)$ и $\\omega(x^*)$"
   ]
  },
  {
   "cell_type": "code",
   "execution_count": 8,
   "id": "517315e5-1ba8-4d64-b7cd-b1657962b7a0",
   "metadata": {},
   "outputs": [
    {
     "name": "stdout",
     "output_type": "stream",
     "text": [
      "x = 0.0000000 m = 0.0000000\n",
      "x = 0.1666667 m = 7.7515692\n",
      "x = 0.2500000 m = 10.9623742\n",
      "x = 0.3333333 m = 13.4261116\n",
      "M max = 13.426111640954336\n"
     ]
    }
   ],
   "source": [
    "def f_derivative_3(x: np.longdouble) -> np.longdouble:\n",
    "    return np.longdouble(\n",
    "        np.longdouble(0.5) * np.power(np.pi, 3) * np.sin(np.pi * x)\n",
    "    )\n",
    "\n",
    "M = [f_derivative_3(unit) for unit in x]\n",
    "M_max = max(M)\n",
    "\n",
    "for unit, m in zip(x, M):\n",
    "    print(f'x = {unit:3.7f} m = {m:3.7f}')\n",
    "else:\n",
    "    print(f'M max = {M_max}')"
   ]
  },
  {
   "cell_type": "code",
   "execution_count": 9,
   "id": "41392df3-0ec8-4a09-b3b9-7fdb617be0f6",
   "metadata": {},
   "outputs": [
    {
     "name": "stdout",
     "output_type": "stream",
     "text": [
      "omega = 0.0000311\n"
     ]
    }
   ],
   "source": [
    "def omega(unit:np.longdouble, x) -> np.longdouble:\n",
    "    \"\"\"\n",
    "    Вычисление омеги в произвольном узле\n",
    "    x - вектор четверной точности, табличные узлы\n",
    "    \n",
    "    return: np.longdouble\n",
    "    \"\"\"\n",
    "    res = np.longdouble(1.)\n",
    "    for x_ in x:\n",
    "        res *= unit - x_\n",
    "    return res\n",
    "\n",
    "o = omega(np.longdouble(11/48), x)\n",
    "\n",
    "print(f'omega = {o:3.7f}')"
   ]
  },
  {
   "cell_type": "markdown",
   "id": "d6b4df97-8919-4ec8-8b15-74fa1bc9fe18",
   "metadata": {},
   "source": [
    "### Конечные вычисления и оценка $|f(x^*) - L_n(x^*)| \\leq \\frac{M_{n+1}}{(n+1)!} * |\\omega(x^*)|$"
   ]
  },
  {
   "cell_type": "code",
   "execution_count": 10,
   "id": "81b37e64-e177-4abc-91ad-d644fd4f7c09",
   "metadata": {},
   "outputs": [
    {
     "name": "stdout",
     "output_type": "stream",
     "text": [
      "Для x = 2.2916667e-01\n",
      "оценка равна: 5.0979776e-05 <= 1.7388335e-05\n"
     ]
    }
   ],
   "source": [
    "special_x = np.longdouble(11/48)\n",
    "l_part = abs(f(special_x) - La(x, y, special_x))\n",
    "r_part = (M_max / scipy.special.factorial(4)) * abs(o)\n",
    "\n",
    "print(f'Для x = {special_x:3.7e}\\nоценка равна: {l_part:3.7e} <= {r_part:3.7e}')"
   ]
  },
  {
   "cell_type": "markdown",
   "id": "3bfe5252-f664-46ed-bdc7-29a592220785",
   "metadata": {},
   "source": [
    "## Вывод:\n",
    "\n",
    "Оценка обеспечила точность вычсилений до 5ти знаков после запятой. **Полином лагранжа имеет необычное поведение между табличными узлами, что обуславливает неточность в ~5-6 знаке послез запятой**."
   ]
  }
 ],
 "metadata": {
  "kernelspec": {
   "display_name": "ds-env",
   "language": "python",
   "name": "ds-env"
  },
  "language_info": {
   "codemirror_mode": {
    "name": "ipython",
    "version": 3
   },
   "file_extension": ".py",
   "mimetype": "text/x-python",
   "name": "python",
   "nbconvert_exporter": "python",
   "pygments_lexer": "ipython3",
   "version": "3.9.6"
  }
 },
 "nbformat": 4,
 "nbformat_minor": 5
}
