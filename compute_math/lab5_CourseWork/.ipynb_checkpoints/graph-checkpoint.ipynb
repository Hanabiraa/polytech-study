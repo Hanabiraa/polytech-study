{
 "cells": [
  {
   "cell_type": "code",
   "execution_count": 1,
   "id": "964044bb-a655-4705-9120-17b62845dcd3",
   "metadata": {},
   "outputs": [],
   "source": [
    "import pandas as pd\n",
    "import numpy as np\n",
    "import matplotlib.pyplot as plt"
   ]
  },
  {
   "cell_type": "code",
   "execution_count": 3,
   "id": "6e1f6287-9863-4a3f-9bee-da5b151fb4c6",
   "metadata": {},
   "outputs": [],
   "source": [
    "df = pd.read_csv('./bin/dots.csv', names=[\"T\",'z1', 'z2'])"
   ]
  },
  {
   "cell_type": "code",
   "execution_count": 4,
   "id": "d720c080-5b26-4c2d-ac08-69eab1c7a553",
   "metadata": {},
   "outputs": [
    {
     "data": {
      "text/html": [
       "<div>\n",
       "<style scoped>\n",
       "    .dataframe tbody tr th:only-of-type {\n",
       "        vertical-align: middle;\n",
       "    }\n",
       "\n",
       "    .dataframe tbody tr th {\n",
       "        vertical-align: top;\n",
       "    }\n",
       "\n",
       "    .dataframe thead th {\n",
       "        text-align: right;\n",
       "    }\n",
       "</style>\n",
       "<table border=\"1\" class=\"dataframe\">\n",
       "  <thead>\n",
       "    <tr style=\"text-align: right;\">\n",
       "      <th></th>\n",
       "      <th>T</th>\n",
       "      <th>z1</th>\n",
       "      <th>z2</th>\n",
       "    </tr>\n",
       "  </thead>\n",
       "  <tbody>\n",
       "    <tr>\n",
       "      <th>0</th>\n",
       "      <td>0.0</td>\n",
       "      <td>1.393610</td>\n",
       "      <td>0.000000</td>\n",
       "    </tr>\n",
       "    <tr>\n",
       "      <th>1</th>\n",
       "      <td>0.1</td>\n",
       "      <td>1.294223</td>\n",
       "      <td>0.134376</td>\n",
       "    </tr>\n",
       "    <tr>\n",
       "      <th>2</th>\n",
       "      <td>0.2</td>\n",
       "      <td>1.198252</td>\n",
       "      <td>0.258959</td>\n",
       "    </tr>\n",
       "    <tr>\n",
       "      <th>3</th>\n",
       "      <td>0.3</td>\n",
       "      <td>1.108433</td>\n",
       "      <td>0.374233</td>\n",
       "    </tr>\n",
       "    <tr>\n",
       "      <th>4</th>\n",
       "      <td>0.4</td>\n",
       "      <td>1.026868</td>\n",
       "      <td>0.480922</td>\n",
       "    </tr>\n",
       "    <tr>\n",
       "      <th>5</th>\n",
       "      <td>0.5</td>\n",
       "      <td>0.955149</td>\n",
       "      <td>0.579935</td>\n",
       "    </tr>\n",
       "    <tr>\n",
       "      <th>6</th>\n",
       "      <td>0.6</td>\n",
       "      <td>0.894487</td>\n",
       "      <td>0.672320</td>\n",
       "    </tr>\n",
       "    <tr>\n",
       "      <th>7</th>\n",
       "      <td>0.7</td>\n",
       "      <td>0.845841</td>\n",
       "      <td>0.759233</td>\n",
       "    </tr>\n",
       "    <tr>\n",
       "      <th>8</th>\n",
       "      <td>0.8</td>\n",
       "      <td>0.810038</td>\n",
       "      <td>0.841917</td>\n",
       "    </tr>\n",
       "    <tr>\n",
       "      <th>9</th>\n",
       "      <td>0.9</td>\n",
       "      <td>0.787882</td>\n",
       "      <td>0.921695</td>\n",
       "    </tr>\n",
       "    <tr>\n",
       "      <th>10</th>\n",
       "      <td>1.0</td>\n",
       "      <td>0.780266</td>\n",
       "      <td>0.999978</td>\n",
       "    </tr>\n",
       "  </tbody>\n",
       "</table>\n",
       "</div>"
      ],
      "text/plain": [
       "      T        z1        z2\n",
       "0   0.0  1.393610  0.000000\n",
       "1   0.1  1.294223  0.134376\n",
       "2   0.2  1.198252  0.258959\n",
       "3   0.3  1.108433  0.374233\n",
       "4   0.4  1.026868  0.480922\n",
       "5   0.5  0.955149  0.579935\n",
       "6   0.6  0.894487  0.672320\n",
       "7   0.7  0.845841  0.759233\n",
       "8   0.8  0.810038  0.841917\n",
       "9   0.9  0.787882  0.921695\n",
       "10  1.0  0.780266  0.999978"
      ]
     },
     "execution_count": 4,
     "metadata": {},
     "output_type": "execute_result"
    }
   ],
   "source": [
    "df"
   ]
  },
  {
   "cell_type": "code",
   "execution_count": 8,
   "id": "29f134d0-cd2f-4caa-b8cc-4b8fc964d292",
   "metadata": {},
   "outputs": [],
   "source": [
    "x_axis = df['T']\n",
    "dy = df['z1']\n",
    "y = df['z2']"
   ]
  },
  {
   "cell_type": "code",
   "execution_count": 27,
   "id": "15cf01df-acee-4d08-acc7-98e7212ab532",
   "metadata": {},
   "outputs": [
    {
     "data": {
      "image/png": "[encoded data removed]",
      "text/plain": [
       "<Figure size 720x432 with 1 Axes>"
      ]
     },
     "metadata": {
      "needs_background": "light"
     },
     "output_type": "display_data"
    }
   ],
   "source": [
    "fig, ax = plt.subplots(figsize=(10, 6))\n",
    "\n",
    "ax.plot(x_axis, y, label=\"z2 = y\")\n",
    "ax.plot(x_axis, dy, label=r\"z1 = $\\frac{dy}{dx}$\")\n",
    "ax.legend(fontsize=16)\n",
    "plt.savefig('graph.png')\n",
    "plt.show()\n"
   ]
  },
  {
   "cell_type": "code",
   "execution_count": null,
   "id": "ae5d391c-77ac-43a6-b502-98710212cc81",
   "metadata": {},
   "outputs": [],
   "source": []
  }
 ],
 "metadata": {
  "kernelspec": {
   "display_name": "ds-env",
   "language": "python",
   "name": "ds-env"
  },
  "language_info": {
   "codemirror_mode": {
    "name": "ipython",
    "version": 3
   },
   "file_extension": ".py",
   "mimetype": "text/x-python",
   "name": "python",
   "nbconvert_exporter": "python",
   "pygments_lexer": "ipython3",
   "version": "3.9.5"
  }
 },
 "nbformat": 4,
 "nbformat_minor": 5
}
